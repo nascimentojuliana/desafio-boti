{
 "cells": [
  {
   "cell_type": "code",
   "execution_count": 1,
   "id": "c94d0858",
   "metadata": {},
   "outputs": [],
   "source": [
    "import pandas as pd\n",
    "import seaborn as sns\n",
    "from sklearn.model_selection import train_test_split\n",
    "import numpy as np\n",
    "from sklearn.compose import ColumnTransformer\n",
    "import matplotlib.pyplot as plt\n",
    "from category_encoders.target_encoder import TargetEncoder\n",
    "from sklearn.ensemble import RandomForestClassifier\n",
    "from sklearn.model_selection import (GridSearchCV,KFold, train_test_split)\n",
    "from sklearn.metrics import classification_report\n",
    "from sklearn.preprocessing import StandardScaler\n",
    "from sklearn.preprocessing import MinMaxScaler\n",
    "from sklearn.preprocessing import OneHotEncoder\n",
    "from sklearn.compose import ColumnTransformer\n",
    "from imblearn.over_sampling import SMOTE\n",
    "from imblearn.pipeline import make_pipeline"
   ]
  },
  {
   "cell_type": "code",
   "execution_count": 2,
   "id": "63d8e8af",
   "metadata": {},
   "outputs": [],
   "source": [
    "import warnings\n",
    "warnings.filterwarnings('ignore')"
   ]
  },
  {
   "cell_type": "code",
   "execution_count": 3,
   "id": "528a4976",
   "metadata": {},
   "outputs": [],
   "source": [
    "df = pd.read_csv('amostra (1).csv')"
   ]
  },
  {
   "cell_type": "code",
   "execution_count": 4,
   "id": "bb419910",
   "metadata": {},
   "outputs": [],
   "source": [
    "df = df.drop(['Unnamed: 0'], axis=1)"
   ]
  },
  {
   "cell_type": "code",
   "execution_count": 5,
   "id": "768a7561",
   "metadata": {},
   "outputs": [
    {
     "data": {
      "text/html": [
       "<div>\n",
       "<style scoped>\n",
       "    .dataframe tbody tr th:only-of-type {\n",
       "        vertical-align: middle;\n",
       "    }\n",
       "\n",
       "    .dataframe tbody tr th {\n",
       "        vertical-align: top;\n",
       "    }\n",
       "\n",
       "    .dataframe thead th {\n",
       "        text-align: right;\n",
       "    }\n",
       "</style>\n",
       "<table border=\"1\" class=\"dataframe\">\n",
       "  <thead>\n",
       "    <tr style=\"text-align: right;\">\n",
       "      <th></th>\n",
       "      <th>cod_pedido</th>\n",
       "      <th>cidade_destinatario</th>\n",
       "      <th>uf</th>\n",
       "      <th>grp_transportadora</th>\n",
       "      <th>dt_despacho_pedido</th>\n",
       "      <th>hr_despacho_pedido</th>\n",
       "      <th>dt_entrega_pedido</th>\n",
       "      <th>hr_entrega_pedido</th>\n",
       "      <th>dt_previsao_entrega_cliente</th>\n",
       "      <th>dt_criacao</th>\n",
       "      <th>dt_pagamento_pedido</th>\n",
       "      <th>flg_existem_ocorrencias</th>\n",
       "      <th>tp_praca</th>\n",
       "      <th>des_unidade_negocio</th>\n",
       "      <th>des_cd_origem</th>\n",
       "      <th>qtd_dias_tat</th>\n",
       "      <th>tp_performance_entrega</th>\n",
       "    </tr>\n",
       "  </thead>\n",
       "  <tbody>\n",
       "    <tr>\n",
       "      <th>0</th>\n",
       "      <td>127995108-1</td>\n",
       "      <td>CURITIBA</td>\n",
       "      <td>PR</td>\n",
       "      <td>Transportadora 4</td>\n",
       "      <td>2023-12-04</td>\n",
       "      <td>05:56:39</td>\n",
       "      <td>2023-12-07</td>\n",
       "      <td>12:19:04</td>\n",
       "      <td>2023-12-07</td>\n",
       "      <td>2023-11-30</td>\n",
       "      <td>2023-11-30</td>\n",
       "      <td>Não</td>\n",
       "      <td>Capital</td>\n",
       "      <td>Multi</td>\n",
       "      <td>PR-Campina G. Sul</td>\n",
       "      <td>5.0</td>\n",
       "      <td>Entregue no Prazo</td>\n",
       "    </tr>\n",
       "    <tr>\n",
       "      <th>1</th>\n",
       "      <td>126433711-1</td>\n",
       "      <td>PARAUAPEBAS</td>\n",
       "      <td>PA</td>\n",
       "      <td>Transportadora 2</td>\n",
       "      <td>2023-11-21</td>\n",
       "      <td>12:39:55</td>\n",
       "      <td>2023-12-01</td>\n",
       "      <td>12:23:47</td>\n",
       "      <td>2023-12-11</td>\n",
       "      <td>2023-11-15</td>\n",
       "      <td>2023-11-17</td>\n",
       "      <td>Não</td>\n",
       "      <td>Interior</td>\n",
       "      <td>Mono</td>\n",
       "      <td>PR-Campina G. Sul</td>\n",
       "      <td>10.0</td>\n",
       "      <td>Entregue no Prazo</td>\n",
       "    </tr>\n",
       "    <tr>\n",
       "      <th>2</th>\n",
       "      <td>125177091-1</td>\n",
       "      <td>JACAREZINHO</td>\n",
       "      <td>PR</td>\n",
       "      <td>Transportadora 4</td>\n",
       "      <td>2023-10-28</td>\n",
       "      <td>10:12:24</td>\n",
       "      <td>2023-10-31</td>\n",
       "      <td>16:10:01</td>\n",
       "      <td>2023-11-06</td>\n",
       "      <td>2023-10-26</td>\n",
       "      <td>2023-10-27</td>\n",
       "      <td>Não</td>\n",
       "      <td>Interior</td>\n",
       "      <td>Mono</td>\n",
       "      <td>PR-Campina G. Sul</td>\n",
       "      <td>2.0</td>\n",
       "      <td>Entregue no Prazo</td>\n",
       "    </tr>\n",
       "    <tr>\n",
       "      <th>3</th>\n",
       "      <td>123168303-1</td>\n",
       "      <td>SÃO PAULO</td>\n",
       "      <td>SP</td>\n",
       "      <td>Transportadora 5</td>\n",
       "      <td>2023-08-23</td>\n",
       "      <td>17:52:06</td>\n",
       "      <td>2023-08-24</td>\n",
       "      <td>12:00:13</td>\n",
       "      <td>2023-08-24</td>\n",
       "      <td>2023-08-22</td>\n",
       "      <td>2023-08-22</td>\n",
       "      <td>Não</td>\n",
       "      <td>Capital</td>\n",
       "      <td>Multi</td>\n",
       "      <td>PR-Campina G. Sul</td>\n",
       "      <td>2.0</td>\n",
       "      <td>Entregue no Prazo</td>\n",
       "    </tr>\n",
       "    <tr>\n",
       "      <th>4</th>\n",
       "      <td>122901808</td>\n",
       "      <td>SAO LUIS</td>\n",
       "      <td>MA</td>\n",
       "      <td>Transportadora 3</td>\n",
       "      <td>2023-08-14</td>\n",
       "      <td>08:41:00</td>\n",
       "      <td>2023-08-23</td>\n",
       "      <td>15:22:59</td>\n",
       "      <td>2023-08-24</td>\n",
       "      <td>2023-08-13</td>\n",
       "      <td>2023-08-12</td>\n",
       "      <td>não</td>\n",
       "      <td>Capital</td>\n",
       "      <td>Multi</td>\n",
       "      <td>PR-Campina G. Sul</td>\n",
       "      <td>8.0</td>\n",
       "      <td>Entregue no Prazo</td>\n",
       "    </tr>\n",
       "  </tbody>\n",
       "</table>\n",
       "</div>"
      ],
      "text/plain": [
       "    cod_pedido cidade_destinatario  uf grp_transportadora dt_despacho_pedido  \\\n",
       "0  127995108-1            CURITIBA  PR   Transportadora 4         2023-12-04   \n",
       "1  126433711-1         PARAUAPEBAS  PA   Transportadora 2         2023-11-21   \n",
       "2  125177091-1         JACAREZINHO  PR   Transportadora 4         2023-10-28   \n",
       "3  123168303-1           SÃO PAULO  SP   Transportadora 5         2023-08-23   \n",
       "4    122901808            SAO LUIS  MA   Transportadora 3         2023-08-14   \n",
       "\n",
       "  hr_despacho_pedido dt_entrega_pedido hr_entrega_pedido  \\\n",
       "0           05:56:39        2023-12-07          12:19:04   \n",
       "1           12:39:55        2023-12-01          12:23:47   \n",
       "2           10:12:24        2023-10-31          16:10:01   \n",
       "3           17:52:06        2023-08-24          12:00:13   \n",
       "4           08:41:00        2023-08-23          15:22:59   \n",
       "\n",
       "  dt_previsao_entrega_cliente  dt_criacao dt_pagamento_pedido  \\\n",
       "0                  2023-12-07  2023-11-30          2023-11-30   \n",
       "1                  2023-12-11  2023-11-15          2023-11-17   \n",
       "2                  2023-11-06  2023-10-26          2023-10-27   \n",
       "3                  2023-08-24  2023-08-22          2023-08-22   \n",
       "4                  2023-08-24  2023-08-13          2023-08-12   \n",
       "\n",
       "  flg_existem_ocorrencias  tp_praca des_unidade_negocio      des_cd_origem  \\\n",
       "0                     Não   Capital               Multi  PR-Campina G. Sul   \n",
       "1                     Não  Interior                Mono  PR-Campina G. Sul   \n",
       "2                     Não  Interior                Mono  PR-Campina G. Sul   \n",
       "3                     Não   Capital               Multi  PR-Campina G. Sul   \n",
       "4                     não   Capital               Multi  PR-Campina G. Sul   \n",
       "\n",
       "   qtd_dias_tat tp_performance_entrega  \n",
       "0           5.0      Entregue no Prazo  \n",
       "1          10.0      Entregue no Prazo  \n",
       "2           2.0      Entregue no Prazo  \n",
       "3           2.0      Entregue no Prazo  \n",
       "4           8.0      Entregue no Prazo  "
      ]
     },
     "execution_count": 5,
     "metadata": {},
     "output_type": "execute_result"
    }
   ],
   "source": [
    "df.head()"
   ]
  },
  {
   "cell_type": "code",
   "execution_count": 6,
   "id": "2a8fd9fa",
   "metadata": {},
   "outputs": [],
   "source": [
    "df['flg_existem_ocorrencias'] = df['flg_existem_ocorrencias'].replace('Não', 0).replace('não', 0).replace('Sim', 1).replace('sim', 1)"
   ]
  },
  {
   "cell_type": "code",
   "execution_count": 7,
   "id": "4d2de86b",
   "metadata": {},
   "outputs": [],
   "source": [
    "df['tp_performance_entrega'] = df['tp_performance_entrega'].replace('Entregue no Prazo', 0).replace('Fora do Prazo', 1)"
   ]
  },
  {
   "cell_type": "code",
   "execution_count": 8,
   "id": "29556ed8",
   "metadata": {},
   "outputs": [],
   "source": [
    "df['dt_criacao'] = pd.to_datetime(df['dt_criacao'])\n",
    "df['dt_pagamento_pedido'] = pd.to_datetime(df['dt_pagamento_pedido'])\n",
    "df['intervalo_pedido_pagamento'] = (df['dt_pagamento_pedido'] - df['dt_criacao']).dt.days"
   ]
  },
  {
   "cell_type": "code",
   "execution_count": 9,
   "id": "bf7fc113",
   "metadata": {},
   "outputs": [],
   "source": [
    "df['dt_entrega_pedido'] = pd.to_datetime(df['dt_entrega_pedido'])\n",
    "df['dt_previsao_entrega_cliente'] = pd.to_datetime(df['dt_previsao_entrega_cliente'])\n",
    "df['intervalo_previsto_entregue'] = (df['dt_entrega_pedido'] - df['dt_previsao_entrega_cliente']).dt.days"
   ]
  },
  {
   "cell_type": "code",
   "execution_count": 10,
   "id": "45b7edbe",
   "metadata": {},
   "outputs": [],
   "source": [
    "df['intervalo_entrega'] = (df['dt_entrega_pedido'] - df['dt_criacao']).dt.days"
   ]
  },
  {
   "cell_type": "code",
   "execution_count": 11,
   "id": "ffa956d0",
   "metadata": {},
   "outputs": [],
   "source": [
    "df['mes_pedido'] = df['dt_criacao'].dt.month"
   ]
  },
  {
   "cell_type": "code",
   "execution_count": 12,
   "id": "7b5e3ef6",
   "metadata": {},
   "outputs": [],
   "source": [
    "def adiantou_ou_atrasou(intervalo):\n",
    "    if intervalo < 0:\n",
    "        return 2  # Atrasado\n",
    "    if intervalo > 0:\n",
    "        return 0\n",
    "    else:\n",
    "        return 1"
   ]
  },
  {
   "cell_type": "code",
   "execution_count": 13,
   "id": "fc99f4c2",
   "metadata": {},
   "outputs": [],
   "source": [
    "df['status'] = df['intervalo_previsto_entregue'].apply(adiantou_ou_atrasou)"
   ]
  },
  {
   "cell_type": "code",
   "execution_count": 14,
   "id": "cb962200",
   "metadata": {},
   "outputs": [],
   "source": [
    "df['uf_origem'] = df['des_cd_origem'].str.split('-').str[0]"
   ]
  },
  {
   "cell_type": "code",
   "execution_count": 15,
   "id": "b4f81c5b",
   "metadata": {},
   "outputs": [
    {
     "data": {
      "text/plain": [
       "Index(['cod_pedido', 'cidade_destinatario', 'uf', 'grp_transportadora',\n",
       "       'dt_despacho_pedido', 'hr_despacho_pedido', 'dt_entrega_pedido',\n",
       "       'hr_entrega_pedido', 'dt_previsao_entrega_cliente', 'dt_criacao',\n",
       "       'dt_pagamento_pedido', 'flg_existem_ocorrencias', 'tp_praca',\n",
       "       'des_unidade_negocio', 'des_cd_origem', 'qtd_dias_tat',\n",
       "       'tp_performance_entrega', 'intervalo_pedido_pagamento',\n",
       "       'intervalo_previsto_entregue', 'intervalo_entrega', 'mes_pedido',\n",
       "       'status', 'uf_origem'],\n",
       "      dtype='object')"
      ]
     },
     "execution_count": 15,
     "metadata": {},
     "output_type": "execute_result"
    }
   ],
   "source": [
    "df.columns"
   ]
  },
  {
   "cell_type": "code",
   "execution_count": 16,
   "id": "0372333f",
   "metadata": {},
   "outputs": [
    {
     "data": {
      "image/png": "[encoded data removed]",
      "text/plain": [
       "<Figure size 800x600 with 1 Axes>"
      ]
     },
     "metadata": {},
     "output_type": "display_data"
    }
   ],
   "source": [
    "plt.figure(figsize=(8, 6))\n",
    "sns.boxplot(data=df[['intervalo_pedido_pagamento', 'intervalo_previsto_entregue', 'intervalo_entrega']])\n",
    "plt.title('Boxplot dos Dados')\n",
    "plt.xlabel('Variáveis')\n",
    "plt.ylabel('Valores')\n",
    "plt.grid(True)\n",
    "plt.show()"
   ]
  },
  {
   "cell_type": "code",
   "execution_count": 17,
   "id": "23e4adbf",
   "metadata": {},
   "outputs": [],
   "source": [
    "def remove_outliers_df(df):\n",
    "    for coluna in df.columns:\n",
    "        df[coluna] = df[coluna][(df[coluna] <= 400)]\n",
    "        df[coluna] = df[coluna][(df[coluna] >= -100)]\n",
    "    return df\n",
    "\n",
    "colunas_para_remover_outliers = ['intervalo_pedido_pagamento', 'intervalo_previsto_entregue', 'intervalo_entrega']\n",
    "df[colunas_para_remover_outliers] = remove_outliers_df(df[colunas_para_remover_outliers])"
   ]
  },
  {
   "cell_type": "code",
   "execution_count": 18,
   "id": "fefd894f",
   "metadata": {},
   "outputs": [],
   "source": [
    "df = df[df['intervalo_previsto_entregue'].notnull()] \n",
    "df = df[df['intervalo_pedido_pagamento'].notnull()] "
   ]
  },
  {
   "cell_type": "code",
   "execution_count": 19,
   "id": "b65851a7",
   "metadata": {},
   "outputs": [],
   "source": [
    "status_medio_trecho_transp = df.groupby(['grp_transportadora'])['status'].mean().reset_index(name='status_medio')\n",
    "\n",
    "viagens_por_rota_transp = df.groupby(['uf_origem', 'uf', 'grp_transportadora']).size().reset_index(name='viagens')\n",
    "\n",
    "status_rota_transp = df.groupby(['uf_origem', 'uf', 'grp_transportadora'])['status'].mean().reset_index(name='status_rota_transp')\n",
    "\n",
    "viagens_atrasadas_rota_transp = df.groupby(['uf_origem', 'uf', 'grp_transportadora'])['tp_performance_entrega'].sum().reset_index(name='viagens_atrasadas_rota_transp')\n",
    "\n",
    "df_merge = pd.merge(viagens_por_rota_transp, viagens_atrasadas_rota_transp, on=['uf_origem', 'uf', 'grp_transportadora'])\n",
    "\n",
    "df_merge = pd.merge(df_merge, status_rota_transp, on=['uf_origem', 'uf', 'grp_transportadora'])"
   ]
  },
  {
   "cell_type": "code",
   "execution_count": 20,
   "id": "88b96d5d",
   "metadata": {},
   "outputs": [],
   "source": [
    "df_merge['percentual_atraso'] = df_merge.viagens_atrasadas_rota_transp / df_merge.viagens"
   ]
  },
  {
   "cell_type": "code",
   "execution_count": 21,
   "id": "79432872",
   "metadata": {},
   "outputs": [],
   "source": [
    "total_por_trecho = df_merge.groupby(['grp_transportadora'])['viagens'].sum().reset_index(name='total_viagens_transp')\n",
    "\n",
    "df_merge = pd.merge(df_merge, total_por_trecho, on=['grp_transportadora'])\n",
    "\n",
    "df_merge['percentual_viagens_rota'] = df_merge.viagens / df_merge.total_viagens_transp"
   ]
  },
  {
   "cell_type": "code",
   "execution_count": 22,
   "id": "de4deaf7",
   "metadata": {},
   "outputs": [],
   "source": [
    "indice_transp_trecho = df.groupby(['grp_transportadora'])['status'].mean().reset_index(name='status_transportadora')"
   ]
  },
  {
   "cell_type": "code",
   "execution_count": 23,
   "id": "06f5d9b0",
   "metadata": {},
   "outputs": [],
   "source": [
    "df_merge = pd.merge(df_merge, indice_transp_trecho, on=['grp_transportadora'])"
   ]
  },
  {
   "cell_type": "code",
   "execution_count": 24,
   "id": "7787cc72",
   "metadata": {},
   "outputs": [
    {
     "data": {
      "text/html": [
       "<div>\n",
       "<style scoped>\n",
       "    .dataframe tbody tr th:only-of-type {\n",
       "        vertical-align: middle;\n",
       "    }\n",
       "\n",
       "    .dataframe tbody tr th {\n",
       "        vertical-align: top;\n",
       "    }\n",
       "\n",
       "    .dataframe thead th {\n",
       "        text-align: right;\n",
       "    }\n",
       "</style>\n",
       "<table border=\"1\" class=\"dataframe\">\n",
       "  <thead>\n",
       "    <tr style=\"text-align: right;\">\n",
       "      <th></th>\n",
       "      <th>uf_origem</th>\n",
       "      <th>uf</th>\n",
       "      <th>grp_transportadora</th>\n",
       "      <th>viagens</th>\n",
       "      <th>viagens_atrasadas_rota_transp</th>\n",
       "      <th>status_rota_transp</th>\n",
       "      <th>percentual_atraso</th>\n",
       "      <th>total_viagens_transp</th>\n",
       "      <th>percentual_viagens_rota</th>\n",
       "      <th>status_transportadora</th>\n",
       "    </tr>\n",
       "  </thead>\n",
       "  <tbody>\n",
       "    <tr>\n",
       "      <th>0</th>\n",
       "      <td>PR</td>\n",
       "      <td>AC</td>\n",
       "      <td>Transportadora 1</td>\n",
       "      <td>79</td>\n",
       "      <td>21</td>\n",
       "      <td>1.316456</td>\n",
       "      <td>0.265823</td>\n",
       "      <td>199081</td>\n",
       "      <td>0.000397</td>\n",
       "      <td>1.915959</td>\n",
       "    </tr>\n",
       "    <tr>\n",
       "      <th>1</th>\n",
       "      <td>PR</td>\n",
       "      <td>AL</td>\n",
       "      <td>Transportadora 1</td>\n",
       "      <td>1491</td>\n",
       "      <td>18</td>\n",
       "      <td>1.963783</td>\n",
       "      <td>0.012072</td>\n",
       "      <td>199081</td>\n",
       "      <td>0.007489</td>\n",
       "      <td>1.915959</td>\n",
       "    </tr>\n",
       "    <tr>\n",
       "      <th>2</th>\n",
       "      <td>PR</td>\n",
       "      <td>AM</td>\n",
       "      <td>Transportadora 1</td>\n",
       "      <td>7</td>\n",
       "      <td>0</td>\n",
       "      <td>2.000000</td>\n",
       "      <td>0.000000</td>\n",
       "      <td>199081</td>\n",
       "      <td>0.000035</td>\n",
       "      <td>1.915959</td>\n",
       "    </tr>\n",
       "    <tr>\n",
       "      <th>3</th>\n",
       "      <td>PR</td>\n",
       "      <td>BA</td>\n",
       "      <td>Transportadora 1</td>\n",
       "      <td>3244</td>\n",
       "      <td>54</td>\n",
       "      <td>1.948829</td>\n",
       "      <td>0.016646</td>\n",
       "      <td>199081</td>\n",
       "      <td>0.016295</td>\n",
       "      <td>1.915959</td>\n",
       "    </tr>\n",
       "    <tr>\n",
       "      <th>4</th>\n",
       "      <td>PR</td>\n",
       "      <td>CE</td>\n",
       "      <td>Transportadora 1</td>\n",
       "      <td>1296</td>\n",
       "      <td>9</td>\n",
       "      <td>1.981481</td>\n",
       "      <td>0.006944</td>\n",
       "      <td>199081</td>\n",
       "      <td>0.006510</td>\n",
       "      <td>1.915959</td>\n",
       "    </tr>\n",
       "    <tr>\n",
       "      <th>...</th>\n",
       "      <td>...</td>\n",
       "      <td>...</td>\n",
       "      <td>...</td>\n",
       "      <td>...</td>\n",
       "      <td>...</td>\n",
       "      <td>...</td>\n",
       "      <td>...</td>\n",
       "      <td>...</td>\n",
       "      <td>...</td>\n",
       "      <td>...</td>\n",
       "    </tr>\n",
       "    <tr>\n",
       "      <th>220</th>\n",
       "      <td>PR</td>\n",
       "      <td>PR</td>\n",
       "      <td>Transportadora 6</td>\n",
       "      <td>1093</td>\n",
       "      <td>89</td>\n",
       "      <td>1.399817</td>\n",
       "      <td>0.081427</td>\n",
       "      <td>1093</td>\n",
       "      <td>1.000000</td>\n",
       "      <td>1.399817</td>\n",
       "    </tr>\n",
       "    <tr>\n",
       "      <th>221</th>\n",
       "      <td>PR</td>\n",
       "      <td>SP</td>\n",
       "      <td>Transportadora 5</td>\n",
       "      <td>16391</td>\n",
       "      <td>1782</td>\n",
       "      <td>1.353182</td>\n",
       "      <td>0.108718</td>\n",
       "      <td>22129</td>\n",
       "      <td>0.740702</td>\n",
       "      <td>1.365177</td>\n",
       "    </tr>\n",
       "    <tr>\n",
       "      <th>222</th>\n",
       "      <td>SP</td>\n",
       "      <td>SP</td>\n",
       "      <td>Transportadora 5</td>\n",
       "      <td>5738</td>\n",
       "      <td>1086</td>\n",
       "      <td>1.399442</td>\n",
       "      <td>0.189265</td>\n",
       "      <td>22129</td>\n",
       "      <td>0.259298</td>\n",
       "      <td>1.365177</td>\n",
       "    </tr>\n",
       "    <tr>\n",
       "      <th>223</th>\n",
       "      <td>SP</td>\n",
       "      <td>RJ</td>\n",
       "      <td>Transportadora 8</td>\n",
       "      <td>41</td>\n",
       "      <td>3</td>\n",
       "      <td>1.731707</td>\n",
       "      <td>0.073171</td>\n",
       "      <td>619</td>\n",
       "      <td>0.066236</td>\n",
       "      <td>1.827141</td>\n",
       "    </tr>\n",
       "    <tr>\n",
       "      <th>224</th>\n",
       "      <td>SP</td>\n",
       "      <td>SP</td>\n",
       "      <td>Transportadora 8</td>\n",
       "      <td>578</td>\n",
       "      <td>26</td>\n",
       "      <td>1.833910</td>\n",
       "      <td>0.044983</td>\n",
       "      <td>619</td>\n",
       "      <td>0.933764</td>\n",
       "      <td>1.827141</td>\n",
       "    </tr>\n",
       "  </tbody>\n",
       "</table>\n",
       "<p>225 rows × 10 columns</p>\n",
       "</div>"
      ],
      "text/plain": [
       "    uf_origem  uf grp_transportadora  viagens  viagens_atrasadas_rota_transp  \\\n",
       "0          PR  AC   Transportadora 1       79                             21   \n",
       "1          PR  AL   Transportadora 1     1491                             18   \n",
       "2          PR  AM   Transportadora 1        7                              0   \n",
       "3          PR  BA   Transportadora 1     3244                             54   \n",
       "4          PR  CE   Transportadora 1     1296                              9   \n",
       "..        ...  ..                ...      ...                            ...   \n",
       "220        PR  PR   Transportadora 6     1093                             89   \n",
       "221        PR  SP   Transportadora 5    16391                           1782   \n",
       "222        SP  SP   Transportadora 5     5738                           1086   \n",
       "223        SP  RJ   Transportadora 8       41                              3   \n",
       "224        SP  SP   Transportadora 8      578                             26   \n",
       "\n",
       "     status_rota_transp  percentual_atraso  total_viagens_transp  \\\n",
       "0              1.316456           0.265823                199081   \n",
       "1              1.963783           0.012072                199081   \n",
       "2              2.000000           0.000000                199081   \n",
       "3              1.948829           0.016646                199081   \n",
       "4              1.981481           0.006944                199081   \n",
       "..                  ...                ...                   ...   \n",
       "220            1.399817           0.081427                  1093   \n",
       "221            1.353182           0.108718                 22129   \n",
       "222            1.399442           0.189265                 22129   \n",
       "223            1.731707           0.073171                   619   \n",
       "224            1.833910           0.044983                   619   \n",
       "\n",
       "     percentual_viagens_rota  status_transportadora  \n",
       "0                   0.000397               1.915959  \n",
       "1                   0.007489               1.915959  \n",
       "2                   0.000035               1.915959  \n",
       "3                   0.016295               1.915959  \n",
       "4                   0.006510               1.915959  \n",
       "..                       ...                    ...  \n",
       "220                 1.000000               1.399817  \n",
       "221                 0.740702               1.365177  \n",
       "222                 0.259298               1.365177  \n",
       "223                 0.066236               1.827141  \n",
       "224                 0.933764               1.827141  \n",
       "\n",
       "[225 rows x 10 columns]"
      ]
     },
     "execution_count": 24,
     "metadata": {},
     "output_type": "execute_result"
    }
   ],
   "source": [
    "df_merge"
   ]
  },
  {
   "cell_type": "code",
   "execution_count": 25,
   "id": "5b162b1f",
   "metadata": {},
   "outputs": [],
   "source": [
    "viagens_por_mes_indice_atrsos = df.groupby(['mes_pedido'])['intervalo_previsto_entregue'].mean().reset_index()"
   ]
  },
  {
   "cell_type": "code",
   "execution_count": 26,
   "id": "8f8a23e1",
   "metadata": {},
   "outputs": [],
   "source": [
    "viagens_por_mes_indice_atrsos.columns = ['mes_pedido', 'indice_mes']"
   ]
  },
  {
   "cell_type": "code",
   "execution_count": 27,
   "id": "42cd0b27",
   "metadata": {},
   "outputs": [],
   "source": [
    "df = pd.merge(df, viagens_por_mes_indice_atrsos, on=['mes_pedido'])"
   ]
  },
  {
   "cell_type": "code",
   "execution_count": 28,
   "id": "c964a280",
   "metadata": {},
   "outputs": [],
   "source": [
    "final = pd.merge(df, df_merge, on=['grp_transportadora', 'uf', 'uf_origem'])"
   ]
  },
  {
   "cell_type": "code",
   "execution_count": 29,
   "id": "fb0021fb",
   "metadata": {},
   "outputs": [
    {
     "data": {
      "text/plain": [
       "Index(['cod_pedido', 'cidade_destinatario', 'uf', 'grp_transportadora',\n",
       "       'dt_despacho_pedido', 'hr_despacho_pedido', 'dt_entrega_pedido',\n",
       "       'hr_entrega_pedido', 'dt_previsao_entrega_cliente', 'dt_criacao',\n",
       "       'dt_pagamento_pedido', 'flg_existem_ocorrencias', 'tp_praca',\n",
       "       'des_unidade_negocio', 'des_cd_origem', 'qtd_dias_tat',\n",
       "       'tp_performance_entrega', 'intervalo_pedido_pagamento',\n",
       "       'intervalo_previsto_entregue', 'intervalo_entrega', 'mes_pedido',\n",
       "       'status', 'uf_origem', 'indice_mes', 'viagens',\n",
       "       'viagens_atrasadas_rota_transp', 'status_rota_transp',\n",
       "       'percentual_atraso', 'total_viagens_transp', 'percentual_viagens_rota',\n",
       "       'status_transportadora'],\n",
       "      dtype='object')"
      ]
     },
     "execution_count": 29,
     "metadata": {},
     "output_type": "execute_result"
    }
   ],
   "source": [
    "final.columns"
   ]
  },
  {
   "cell_type": "code",
   "execution_count": 30,
   "id": "020e6839",
   "metadata": {},
   "outputs": [
    {
     "data": {
      "image/png": "[encoded data removed]",
      "text/plain": [
       "<Figure size 640x480 with 2 Axes>"
      ]
     },
     "metadata": {},
     "output_type": "display_data"
    }
   ],
   "source": [
    "correlacao = final[[\n",
    "       'tp_performance_entrega', 'intervalo_pedido_pagamento',\n",
    "         'mes_pedido',\n",
    "       'status','indice_mes', \n",
    "       'status_rota_transp',\n",
    "       'percentual_atraso', 'percentual_viagens_rota',\n",
    "       'status_transportadora']].corr()\n",
    "sns.heatmap(correlacao, annot=True, cmap='coolwarm')\n",
    "plt.title('Heatmap de Correlação')\n",
    "plt.show()"
   ]
  },
  {
   "cell_type": "code",
   "execution_count": 31,
   "id": "df65a614",
   "metadata": {},
   "outputs": [],
   "source": [
    "final = final[['uf', 'grp_transportadora','tp_performance_entrega', 'intervalo_pedido_pagamento',\n",
    "       'indice_mes', 'tp_praca',\n",
    "       'des_unidade_negocio', \n",
    "       'status_rota_transp','uf_origem',\n",
    "       'percentual_viagens_rota']]"
   ]
  },
  {
   "cell_type": "code",
   "execution_count": 32,
   "id": "8b4f21d4",
   "metadata": {},
   "outputs": [
    {
     "data": {
      "text/html": [
       "<div>\n",
       "<style scoped>\n",
       "    .dataframe tbody tr th:only-of-type {\n",
       "        vertical-align: middle;\n",
       "    }\n",
       "\n",
       "    .dataframe tbody tr th {\n",
       "        vertical-align: top;\n",
       "    }\n",
       "\n",
       "    .dataframe thead th {\n",
       "        text-align: right;\n",
       "    }\n",
       "</style>\n",
       "<table border=\"1\" class=\"dataframe\">\n",
       "  <thead>\n",
       "    <tr style=\"text-align: right;\">\n",
       "      <th></th>\n",
       "      <th>uf</th>\n",
       "      <th>grp_transportadora</th>\n",
       "      <th>tp_performance_entrega</th>\n",
       "      <th>intervalo_pedido_pagamento</th>\n",
       "      <th>indice_mes</th>\n",
       "      <th>tp_praca</th>\n",
       "      <th>des_unidade_negocio</th>\n",
       "      <th>status_rota_transp</th>\n",
       "      <th>uf_origem</th>\n",
       "      <th>percentual_viagens_rota</th>\n",
       "    </tr>\n",
       "  </thead>\n",
       "  <tbody>\n",
       "    <tr>\n",
       "      <th>0</th>\n",
       "      <td>PR</td>\n",
       "      <td>Transportadora 4</td>\n",
       "      <td>0</td>\n",
       "      <td>0.0</td>\n",
       "      <td>-4.102798</td>\n",
       "      <td>Capital</td>\n",
       "      <td>Multi</td>\n",
       "      <td>1.631596</td>\n",
       "      <td>PR</td>\n",
       "      <td>0.263662</td>\n",
       "    </tr>\n",
       "    <tr>\n",
       "      <th>1</th>\n",
       "      <td>PR</td>\n",
       "      <td>Transportadora 4</td>\n",
       "      <td>0</td>\n",
       "      <td>0.0</td>\n",
       "      <td>-4.102798</td>\n",
       "      <td>Interior</td>\n",
       "      <td>Mono</td>\n",
       "      <td>1.631596</td>\n",
       "      <td>PR</td>\n",
       "      <td>0.263662</td>\n",
       "    </tr>\n",
       "    <tr>\n",
       "      <th>2</th>\n",
       "      <td>PR</td>\n",
       "      <td>Transportadora 4</td>\n",
       "      <td>0</td>\n",
       "      <td>0.0</td>\n",
       "      <td>-4.102798</td>\n",
       "      <td>Interior</td>\n",
       "      <td>Mono</td>\n",
       "      <td>1.631596</td>\n",
       "      <td>PR</td>\n",
       "      <td>0.263662</td>\n",
       "    </tr>\n",
       "    <tr>\n",
       "      <th>3</th>\n",
       "      <td>PR</td>\n",
       "      <td>Transportadora 4</td>\n",
       "      <td>0</td>\n",
       "      <td>0.0</td>\n",
       "      <td>-4.102798</td>\n",
       "      <td>Reg. Metropolitana</td>\n",
       "      <td>Multi</td>\n",
       "      <td>1.631596</td>\n",
       "      <td>PR</td>\n",
       "      <td>0.263662</td>\n",
       "    </tr>\n",
       "    <tr>\n",
       "      <th>4</th>\n",
       "      <td>PR</td>\n",
       "      <td>Transportadora 4</td>\n",
       "      <td>0</td>\n",
       "      <td>0.0</td>\n",
       "      <td>-4.102798</td>\n",
       "      <td>Interior</td>\n",
       "      <td>Mono</td>\n",
       "      <td>1.631596</td>\n",
       "      <td>PR</td>\n",
       "      <td>0.263662</td>\n",
       "    </tr>\n",
       "  </tbody>\n",
       "</table>\n",
       "</div>"
      ],
      "text/plain": [
       "   uf grp_transportadora  tp_performance_entrega  intervalo_pedido_pagamento  \\\n",
       "0  PR   Transportadora 4                       0                         0.0   \n",
       "1  PR   Transportadora 4                       0                         0.0   \n",
       "2  PR   Transportadora 4                       0                         0.0   \n",
       "3  PR   Transportadora 4                       0                         0.0   \n",
       "4  PR   Transportadora 4                       0                         0.0   \n",
       "\n",
       "   indice_mes            tp_praca des_unidade_negocio  status_rota_transp  \\\n",
       "0   -4.102798             Capital               Multi            1.631596   \n",
       "1   -4.102798            Interior                Mono            1.631596   \n",
       "2   -4.102798            Interior                Mono            1.631596   \n",
       "3   -4.102798  Reg. Metropolitana               Multi            1.631596   \n",
       "4   -4.102798            Interior                Mono            1.631596   \n",
       "\n",
       "  uf_origem  percentual_viagens_rota  \n",
       "0        PR                 0.263662  \n",
       "1        PR                 0.263662  \n",
       "2        PR                 0.263662  \n",
       "3        PR                 0.263662  \n",
       "4        PR                 0.263662  "
      ]
     },
     "execution_count": 32,
     "metadata": {},
     "output_type": "execute_result"
    }
   ],
   "source": [
    "final.head()"
   ]
  },
  {
   "cell_type": "code",
   "execution_count": 33,
   "id": "fbf3ae07",
   "metadata": {},
   "outputs": [
    {
     "data": {
      "text/plain": [
       "Index(['uf', 'grp_transportadora', 'tp_performance_entrega',\n",
       "       'intervalo_pedido_pagamento', 'indice_mes', 'tp_praca',\n",
       "       'des_unidade_negocio', 'status_rota_transp', 'uf_origem',\n",
       "       'percentual_viagens_rota'],\n",
       "      dtype='object')"
      ]
     },
     "execution_count": 33,
     "metadata": {},
     "output_type": "execute_result"
    }
   ],
   "source": [
    "final.columns"
   ]
  },
  {
   "cell_type": "code",
   "execution_count": 34,
   "id": "34636a1d",
   "metadata": {},
   "outputs": [],
   "source": [
    "def split(data, target_variable):\n",
    "    X_train, X_test, y_train, y_test = train_test_split(\n",
    "                                                    data[columns_to_model], \n",
    "                                                    data[target_variable], \n",
    "                                                    stratify=data[target_variable], \n",
    "                                                    random_state=42\n",
    "                                                    )\n",
    "    return X_train, X_test, y_train, y_test"
   ]
  },
  {
   "cell_type": "code",
   "execution_count": 35,
   "id": "45a5bde2",
   "metadata": {},
   "outputs": [],
   "source": [
    "columns_to_model = ['uf', 'grp_transportadora', \n",
    "       'intervalo_pedido_pagamento', 'indice_mes', 'tp_praca',\n",
    "       'des_unidade_negocio', 'status_rota_transp', 'uf_origem',\n",
    "       'percentual_viagens_rota']\n",
    "X_train, X_test, y_train, y_test = train_test_split(final[columns_to_model], final['tp_performance_entrega'], test_size=0.2, random_state=42, stratify=final[['uf', 'uf_origem']])"
   ]
  },
  {
   "cell_type": "code",
   "execution_count": 36,
   "id": "de75767a",
   "metadata": {},
   "outputs": [],
   "source": [
    "X_train.reset_index(drop=True, inplace=True)\n",
    "X_test.reset_index(drop=True, inplace=True)"
   ]
  },
  {
   "cell_type": "code",
   "execution_count": 37,
   "id": "e142cbf9",
   "metadata": {},
   "outputs": [],
   "source": [
    "from sklearn.preprocessing import MinMaxScaler\n",
    "selected_columns = ['intervalo_pedido_pagamento','indice_mes','status_rota_transp','percentual_viagens_rota']\n",
    "X_train_subset = X_train[selected_columns]\n",
    "scaler = MinMaxScaler()\n",
    "X_train[['intervalo_pedido_pagamento_s','indice_mes_s','status_rota_transp_s','percentual_viagens_rota_s']] = pd.DataFrame(scaler.fit_transform(X_train_subset), columns=selected_columns)\n",
    "X_train = X_train.drop(['intervalo_pedido_pagamento','indice_mes','status_rota_transp','percentual_viagens_rota'], axis=1)"
   ]
  },
  {
   "cell_type": "code",
   "execution_count": 38,
   "id": "00c13459",
   "metadata": {},
   "outputs": [],
   "source": [
    "min_max_params = pd.DataFrame({\n",
    "    'min': scaler.data_min_,\n",
    "    'max': scaler.data_max_\n",
    "}, index=selected_columns)\n",
    "min_max_params.to_csv('min_max_params.csv', index=False)"
   ]
  },
  {
   "cell_type": "code",
   "execution_count": 39,
   "id": "55ab93b8",
   "metadata": {},
   "outputs": [],
   "source": [
    "from sklearn.preprocessing import MinMaxScaler\n",
    "selected_columns = ['intervalo_pedido_pagamento','indice_mes','status_rota_transp','percentual_viagens_rota']\n",
    "X_test_subset = X_test[selected_columns]\n",
    "scaler = MinMaxScaler()\n",
    "X_test[['intervalo_pedido_pagamento_s','indice_mes_s','status_rota_transp_s','percentual_viagens_rota_s']] = pd.DataFrame(scaler.fit_transform(X_test_subset), columns=selected_columns)\n",
    "X_test = X_test.drop(['intervalo_pedido_pagamento','indice_mes','status_rota_transp','percentual_viagens_rota'], axis=1)"
   ]
  },
  {
   "cell_type": "code",
   "execution_count": 40,
   "id": "b37c1117",
   "metadata": {},
   "outputs": [],
   "source": [
    "treino = pd.concat([X_train,pd.Series(list(y_train.values))], axis=1)"
   ]
  },
  {
   "cell_type": "code",
   "execution_count": 41,
   "id": "c784181f",
   "metadata": {},
   "outputs": [],
   "source": [
    "treino = treino.rename(columns={0: 'tp_performance_entrega'})"
   ]
  },
  {
   "cell_type": "code",
   "execution_count": 42,
   "id": "185cd87a",
   "metadata": {},
   "outputs": [],
   "source": [
    "treino.to_csv('dataset_treinamento.csv', index=False)"
   ]
  },
  {
   "cell_type": "code",
   "execution_count": 43,
   "id": "096b1deb",
   "metadata": {},
   "outputs": [],
   "source": [
    "teste = pd.concat([X_test, pd.Series(list(y_test.values))], axis=1)"
   ]
  },
  {
   "cell_type": "code",
   "execution_count": 44,
   "id": "9cbef977",
   "metadata": {},
   "outputs": [],
   "source": [
    "teste = teste.rename(columns={0: 'tp_performance_entrega'})"
   ]
  },
  {
   "cell_type": "code",
   "execution_count": 45,
   "id": "f74d2a02",
   "metadata": {},
   "outputs": [],
   "source": [
    "teste.to_csv('dataset_teste.csv', index=False)"
   ]
  }
 ],
 "metadata": {
  "kernelspec": {
   "display_name": "Python 3 (ipykernel)",
   "language": "python",
   "name": "python3"
  },
  "language_info": {
   "codemirror_mode": {
    "name": "ipython",
    "version": 3
   },
   "file_extension": ".py",
   "mimetype": "text/x-python",
   "name": "python",
   "nbconvert_exporter": "python",
   "pygments_lexer": "ipython3",
   "version": "3.10.9"
  }
 },
 "nbformat": 4,
 "nbformat_minor": 5
}
