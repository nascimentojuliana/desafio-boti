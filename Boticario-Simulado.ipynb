{
 "cells": [
  {
   "cell_type": "code",
   "execution_count": 1,
   "id": "c94d0858",
   "metadata": {},
   "outputs": [],
   "source": [
    "import pandas as pd\n",
    "import matplotlib.pyplot as plt\n",
    "import seaborn as sns\n",
    "import numpy as np\n",
    "from sklearn.compose import ColumnTransformer\n",
    "import matplotlib.pyplot as plt\n",
    "from category_encoders.target_encoder import TargetEncoder\n",
    "from sklearn.ensemble import RandomForestClassifier\n",
    "from sklearn.model_selection import (GridSearchCV,KFold, train_test_split)\n",
    "from sklearn.metrics import classification_report\n",
    "from sklearn.preprocessing import StandardScaler\n",
    "from sklearn.preprocessing import MinMaxScaler\n",
    "from sklearn.preprocessing import OneHotEncoder\n",
    "from sklearn.compose import ColumnTransformer\n",
    "from sklearn.metrics import confusion_matrix"
   ]
  },
  {
   "cell_type": "code",
   "execution_count": 2,
   "id": "63d8e8af",
   "metadata": {},
   "outputs": [],
   "source": [
    "import warnings\n",
    "\n",
    "# Para ignorar todos os warnings:\n",
    "warnings.filterwarnings('ignore')"
   ]
  },
  {
   "cell_type": "markdown",
   "id": "837109ce",
   "metadata": {},
   "source": [
    "# Simulado"
   ]
  },
  {
   "cell_type": "code",
   "execution_count": 3,
   "id": "7de50c61",
   "metadata": {},
   "outputs": [],
   "source": [
    "dataset_teste = pd.read_csv('dataset_teste.csv')"
   ]
  },
  {
   "cell_type": "code",
   "execution_count": 52,
   "id": "0d93fe66",
   "metadata": {},
   "outputs": [],
   "source": [
    "import joblib\n",
    "# Carregar o modelo treinado\n",
    "modelo_carregado = joblib.load('modelo_treinado.joblib')"
   ]
  },
  {
   "cell_type": "code",
   "execution_count": 5,
   "id": "cb4372f5",
   "metadata": {},
   "outputs": [],
   "source": [
    "dataset_treino = pd.read_csv('dataset_treinamento.csv')"
   ]
  },
  {
   "cell_type": "code",
   "execution_count": 6,
   "id": "6a60c84e",
   "metadata": {},
   "outputs": [],
   "source": [
    "X_test = dataset_teste.drop(['tp_performance_entrega'],axis=1)\n",
    "y_test = dataset_teste[['tp_performance_entrega']]"
   ]
  },
  {
   "cell_type": "code",
   "execution_count": 7,
   "id": "d9e0095a",
   "metadata": {},
   "outputs": [
    {
     "data": {
      "text/plain": [
       "tp_performance_entrega    3548\n",
       "dtype: int64"
      ]
     },
     "execution_count": 7,
     "metadata": {},
     "output_type": "execute_result"
    }
   ],
   "source": [
    "y_test.sum()"
   ]
  },
  {
   "cell_type": "code",
   "execution_count": 8,
   "id": "4b2dcbfc",
   "metadata": {},
   "outputs": [
    {
     "data": {
      "text/plain": [
       "93503"
      ]
     },
     "execution_count": 8,
     "metadata": {},
     "output_type": "execute_result"
    }
   ],
   "source": [
    "len(y_test)"
   ]
  },
  {
   "cell_type": "code",
   "execution_count": 49,
   "id": "d30842e2",
   "metadata": {},
   "outputs": [
    {
     "data": {
      "text/plain": [
       "0.03794530656770371"
      ]
     },
     "execution_count": 49,
     "metadata": {},
     "output_type": "execute_result"
    }
   ],
   "source": [
    "3548/93503"
   ]
  },
  {
   "cell_type": "code",
   "execution_count": 73,
   "id": "e0c5333c",
   "metadata": {},
   "outputs": [
    {
     "data": {
      "text/plain": [
       "0.0015178122627081485"
      ]
     },
     "execution_count": 73,
     "metadata": {},
     "output_type": "execute_result"
    }
   ],
   "source": [
    "(3548*0.04)/93503"
   ]
  },
  {
   "cell_type": "code",
   "execution_count": 10,
   "id": "73df8118",
   "metadata": {},
   "outputs": [],
   "source": [
    "columns_to_encoder=['uf', 'tp_praca', 'des_unidade_negocio', 'des_unidade_negocio','uf_origem', 'grp_transportadora']"
   ]
  },
  {
   "cell_type": "code",
   "execution_count": 11,
   "id": "7f6ec63e",
   "metadata": {},
   "outputs": [],
   "source": [
    "encoder = OneHotEncoder(sparse=False, handle_unknown='ignore', drop='first')\n",
    "\n",
    "encoded_data = encoder.fit_transform(X_test[columns_to_encoder])\n",
    "\n",
    "encoded_feature_names = encoder.get_feature_names_out(input_features=columns_to_encoder)\n",
    "\n",
    "encoded_df = pd.DataFrame(encoded_data, columns=encoded_feature_names)"
   ]
  },
  {
   "cell_type": "code",
   "execution_count": 12,
   "id": "db50ab2f",
   "metadata": {},
   "outputs": [],
   "source": [
    "X_test_encoded = X_test.drop(columns_to_encoder, axis=1)"
   ]
  },
  {
   "cell_type": "code",
   "execution_count": 13,
   "id": "1bc9c73f",
   "metadata": {},
   "outputs": [],
   "source": [
    "df_encoded = pd.concat([X_test_encoded, encoded_df], axis=1)"
   ]
  },
  {
   "cell_type": "code",
   "execution_count": 14,
   "id": "85a9beed",
   "metadata": {},
   "outputs": [
    {
     "data": {
      "text/plain": [
       "Index(['uf', 'grp_transportadora', 'tp_praca', 'des_unidade_negocio',\n",
       "       'uf_origem', 'intervalo_pedido_pagamento_s', 'indice_mes_s',\n",
       "       'status_rota_transp_s', 'percentual_viagens_rota_s'],\n",
       "      dtype='object')"
      ]
     },
     "execution_count": 14,
     "metadata": {},
     "output_type": "execute_result"
    }
   ],
   "source": [
    "X_test.columns"
   ]
  },
  {
   "cell_type": "code",
   "execution_count": 15,
   "id": "e49021e6",
   "metadata": {},
   "outputs": [],
   "source": [
    "y_pred = modelo_carregado.predict(X_test)"
   ]
  },
  {
   "cell_type": "code",
   "execution_count": 16,
   "id": "29242c3e",
   "metadata": {},
   "outputs": [],
   "source": [
    "y_pred = pd.DataFrame(y_pred, columns = ['predict'])"
   ]
  },
  {
   "cell_type": "code",
   "execution_count": 17,
   "id": "bc787276",
   "metadata": {},
   "outputs": [
    {
     "data": {
      "text/plain": [
       "74795"
      ]
     },
     "execution_count": 17,
     "metadata": {},
     "output_type": "execute_result"
    }
   ],
   "source": [
    "len(list(filter(lambda x: x == 1, y_pred.predict)))"
   ]
  },
  {
   "cell_type": "code",
   "execution_count": 55,
   "id": "2ea1518d",
   "metadata": {},
   "outputs": [
    {
     "data": {
      "text/plain": [
       "2991.8"
      ]
     },
     "execution_count": 55,
     "metadata": {},
     "output_type": "execute_result"
    }
   ],
   "source": [
    "0.04*74795"
   ]
  },
  {
   "cell_type": "code",
   "execution_count": 56,
   "id": "2d87ae50",
   "metadata": {},
   "outputs": [
    {
     "data": {
      "text/plain": [
       "0.031996834326171356"
      ]
     },
     "execution_count": 56,
     "metadata": {},
     "output_type": "execute_result"
    }
   ],
   "source": [
    "2991.8/93503"
   ]
  },
  {
   "cell_type": "code",
   "execution_count": 20,
   "id": "deb70c4b",
   "metadata": {},
   "outputs": [],
   "source": [
    "df_merge = pd.read_csv('grp_transportadora.csv')"
   ]
  },
  {
   "cell_type": "code",
   "execution_count": 68,
   "id": "99424f6d",
   "metadata": {},
   "outputs": [
    {
     "data": {
      "text/plain": [
       "0.9638916750250752"
      ]
     },
     "execution_count": 68,
     "metadata": {},
     "output_type": "execute_result"
    }
   ],
   "source": [
    "(2991-108)/2991"
   ]
  },
  {
   "cell_type": "code",
   "execution_count": 21,
   "id": "919bf648",
   "metadata": {},
   "outputs": [],
   "source": [
    "lista_simulacao = []\n",
    "for index, row in X_test.iterrows():\n",
    "    estado_origem = row['uf_origem'] \n",
    "    estado_destino = row['uf']\n",
    "    lista_transportadoras_trecho = df_merge[(df_merge['uf_origem'] == estado_origem) & (df_merge['uf'] == estado_destino)] \n",
    "    for transportadora in lista_transportadoras_trecho.grp_transportadora:\n",
    "        lista_simulacao.append([index,\n",
    "            row['uf'], row['tp_praca'], row['des_unidade_negocio'],\n",
    "            row['intervalo_pedido_pagamento_s'], row['uf_origem'], transportadora,\n",
    "            row['indice_mes_s']\n",
    "        ])"
   ]
  },
  {
   "cell_type": "code",
   "execution_count": 22,
   "id": "640f1532",
   "metadata": {},
   "outputs": [],
   "source": [
    "df_temp = pd.DataFrame(lista_simulacao, columns = ['codigo_unico', 'uf', 'tp_praca', 'des_unidade_negocio',\n",
    "            'intervalo_pedido_pagamento_s', 'uf_origem', 'grp_transportadora',\n",
    "            'indice_mes_s'])"
   ]
  },
  {
   "cell_type": "code",
   "execution_count": 23,
   "id": "e53f148a",
   "metadata": {},
   "outputs": [],
   "source": [
    "df_simulado = pd.merge(df_temp, df_merge, on=['grp_transportadora', 'uf', 'uf_origem'])"
   ]
  },
  {
   "cell_type": "code",
   "execution_count": 24,
   "id": "e37f5a6e",
   "metadata": {},
   "outputs": [],
   "source": [
    "min_max_params = pd.read_csv('min_max_params.csv')\n",
    "min_values = min_max_params['min'].values\n",
    "max_values = min_max_params['max'].values\n",
    "\n",
    "scaler = MinMaxScaler(feature_range=(min_values[2], max_values[2]))\n",
    "normalized_data = scaler.fit_transform(df_simulado[['status_rota_transp']])\n",
    "name_column = 'status_rota_transp' + '_s'\n",
    "df_simulado[name_column] = normalized_data\n",
    "\n",
    "scaler = MinMaxScaler(feature_range=(min_values[3], max_values[3]))\n",
    "normalized_data = scaler.fit_transform(df_simulado[['percentual_viagens_rota']])\n",
    "name_column = 'percentual_viagens_rota' + '_s'\n",
    "df_simulado[name_column] = normalized_data"
   ]
  },
  {
   "cell_type": "code",
   "execution_count": 25,
   "id": "eeb50e4d",
   "metadata": {},
   "outputs": [
    {
     "data": {
      "text/html": [
       "<div>\n",
       "<style scoped>\n",
       "    .dataframe tbody tr th:only-of-type {\n",
       "        vertical-align: middle;\n",
       "    }\n",
       "\n",
       "    .dataframe tbody tr th {\n",
       "        vertical-align: top;\n",
       "    }\n",
       "\n",
       "    .dataframe thead th {\n",
       "        text-align: right;\n",
       "    }\n",
       "</style>\n",
       "<table border=\"1\" class=\"dataframe\">\n",
       "  <thead>\n",
       "    <tr style=\"text-align: right;\">\n",
       "      <th></th>\n",
       "      <th>codigo_unico</th>\n",
       "      <th>uf</th>\n",
       "      <th>tp_praca</th>\n",
       "      <th>des_unidade_negocio</th>\n",
       "      <th>intervalo_pedido_pagamento_s</th>\n",
       "      <th>uf_origem</th>\n",
       "      <th>grp_transportadora</th>\n",
       "      <th>indice_mes_s</th>\n",
       "      <th>viagens</th>\n",
       "      <th>viagens_atrasadas_rota_transp</th>\n",
       "      <th>status_rota_transp</th>\n",
       "      <th>percentual_atraso</th>\n",
       "      <th>total_viagens_transp</th>\n",
       "      <th>percentual_viagens_rota</th>\n",
       "      <th>status_transportadora</th>\n",
       "      <th>status_rota_transp_s</th>\n",
       "      <th>percentual_viagens_rota_s</th>\n",
       "    </tr>\n",
       "  </thead>\n",
       "  <tbody>\n",
       "    <tr>\n",
       "      <th>0</th>\n",
       "      <td>0</td>\n",
       "      <td>RS</td>\n",
       "      <td>Interior</td>\n",
       "      <td>Mono</td>\n",
       "      <td>0.791667</td>\n",
       "      <td>PR</td>\n",
       "      <td>Transportadora 2</td>\n",
       "      <td>0.382516</td>\n",
       "      <td>549</td>\n",
       "      <td>72</td>\n",
       "      <td>1.462659</td>\n",
       "      <td>0.131148</td>\n",
       "      <td>57658</td>\n",
       "      <td>0.009522</td>\n",
       "      <td>1.82332</td>\n",
       "      <td>1.462659</td>\n",
       "      <td>0.009522</td>\n",
       "    </tr>\n",
       "    <tr>\n",
       "      <th>1</th>\n",
       "      <td>4</td>\n",
       "      <td>RS</td>\n",
       "      <td>Reg. Metropolitana</td>\n",
       "      <td>Mono</td>\n",
       "      <td>0.791667</td>\n",
       "      <td>PR</td>\n",
       "      <td>Transportadora 2</td>\n",
       "      <td>0.806398</td>\n",
       "      <td>549</td>\n",
       "      <td>72</td>\n",
       "      <td>1.462659</td>\n",
       "      <td>0.131148</td>\n",
       "      <td>57658</td>\n",
       "      <td>0.009522</td>\n",
       "      <td>1.82332</td>\n",
       "      <td>1.462659</td>\n",
       "      <td>0.009522</td>\n",
       "    </tr>\n",
       "    <tr>\n",
       "      <th>2</th>\n",
       "      <td>8</td>\n",
       "      <td>RS</td>\n",
       "      <td>Capital</td>\n",
       "      <td>Mono</td>\n",
       "      <td>0.791667</td>\n",
       "      <td>PR</td>\n",
       "      <td>Transportadora 2</td>\n",
       "      <td>0.000000</td>\n",
       "      <td>549</td>\n",
       "      <td>72</td>\n",
       "      <td>1.462659</td>\n",
       "      <td>0.131148</td>\n",
       "      <td>57658</td>\n",
       "      <td>0.009522</td>\n",
       "      <td>1.82332</td>\n",
       "      <td>1.462659</td>\n",
       "      <td>0.009522</td>\n",
       "    </tr>\n",
       "    <tr>\n",
       "      <th>3</th>\n",
       "      <td>27</td>\n",
       "      <td>RS</td>\n",
       "      <td>Reg. Metropolitana</td>\n",
       "      <td>Multi</td>\n",
       "      <td>0.791667</td>\n",
       "      <td>PR</td>\n",
       "      <td>Transportadora 2</td>\n",
       "      <td>0.806398</td>\n",
       "      <td>549</td>\n",
       "      <td>72</td>\n",
       "      <td>1.462659</td>\n",
       "      <td>0.131148</td>\n",
       "      <td>57658</td>\n",
       "      <td>0.009522</td>\n",
       "      <td>1.82332</td>\n",
       "      <td>1.462659</td>\n",
       "      <td>0.009522</td>\n",
       "    </tr>\n",
       "    <tr>\n",
       "      <th>4</th>\n",
       "      <td>37</td>\n",
       "      <td>RS</td>\n",
       "      <td>Interior</td>\n",
       "      <td>Mono</td>\n",
       "      <td>0.791667</td>\n",
       "      <td>PR</td>\n",
       "      <td>Transportadora 2</td>\n",
       "      <td>0.382516</td>\n",
       "      <td>549</td>\n",
       "      <td>72</td>\n",
       "      <td>1.462659</td>\n",
       "      <td>0.131148</td>\n",
       "      <td>57658</td>\n",
       "      <td>0.009522</td>\n",
       "      <td>1.82332</td>\n",
       "      <td>1.462659</td>\n",
       "      <td>0.009522</td>\n",
       "    </tr>\n",
       "  </tbody>\n",
       "</table>\n",
       "</div>"
      ],
      "text/plain": [
       "   codigo_unico  uf            tp_praca des_unidade_negocio  \\\n",
       "0             0  RS            Interior                Mono   \n",
       "1             4  RS  Reg. Metropolitana                Mono   \n",
       "2             8  RS             Capital                Mono   \n",
       "3            27  RS  Reg. Metropolitana               Multi   \n",
       "4            37  RS            Interior                Mono   \n",
       "\n",
       "   intervalo_pedido_pagamento_s uf_origem grp_transportadora  indice_mes_s  \\\n",
       "0                      0.791667        PR   Transportadora 2      0.382516   \n",
       "1                      0.791667        PR   Transportadora 2      0.806398   \n",
       "2                      0.791667        PR   Transportadora 2      0.000000   \n",
       "3                      0.791667        PR   Transportadora 2      0.806398   \n",
       "4                      0.791667        PR   Transportadora 2      0.382516   \n",
       "\n",
       "   viagens  viagens_atrasadas_rota_transp  status_rota_transp  \\\n",
       "0      549                             72            1.462659   \n",
       "1      549                             72            1.462659   \n",
       "2      549                             72            1.462659   \n",
       "3      549                             72            1.462659   \n",
       "4      549                             72            1.462659   \n",
       "\n",
       "   percentual_atraso  total_viagens_transp  percentual_viagens_rota  \\\n",
       "0           0.131148                 57658                 0.009522   \n",
       "1           0.131148                 57658                 0.009522   \n",
       "2           0.131148                 57658                 0.009522   \n",
       "3           0.131148                 57658                 0.009522   \n",
       "4           0.131148                 57658                 0.009522   \n",
       "\n",
       "   status_transportadora  status_rota_transp_s  percentual_viagens_rota_s  \n",
       "0                1.82332              1.462659                   0.009522  \n",
       "1                1.82332              1.462659                   0.009522  \n",
       "2                1.82332              1.462659                   0.009522  \n",
       "3                1.82332              1.462659                   0.009522  \n",
       "4                1.82332              1.462659                   0.009522  "
      ]
     },
     "execution_count": 25,
     "metadata": {},
     "output_type": "execute_result"
    }
   ],
   "source": [
    "df_simulado.head()"
   ]
  },
  {
   "cell_type": "code",
   "execution_count": 26,
   "id": "efc26446",
   "metadata": {},
   "outputs": [
    {
     "data": {
      "text/plain": [
       "Index(['codigo_unico', 'uf', 'tp_praca', 'des_unidade_negocio',\n",
       "       'intervalo_pedido_pagamento_s', 'uf_origem', 'grp_transportadora',\n",
       "       'indice_mes_s', 'viagens', 'viagens_atrasadas_rota_transp',\n",
       "       'status_rota_transp', 'percentual_atraso', 'total_viagens_transp',\n",
       "       'percentual_viagens_rota', 'status_transportadora',\n",
       "       'status_rota_transp_s', 'percentual_viagens_rota_s'],\n",
       "      dtype='object')"
      ]
     },
     "execution_count": 26,
     "metadata": {},
     "output_type": "execute_result"
    }
   ],
   "source": [
    "df_simulado.columns"
   ]
  },
  {
   "cell_type": "code",
   "execution_count": 27,
   "id": "c6756638",
   "metadata": {},
   "outputs": [],
   "source": [
    "df_simulado = df_simulado.drop(['viagens', 'viagens_atrasadas_rota_transp',\n",
    "       'status_rota_transp', 'percentual_atraso', 'total_viagens_transp',\n",
    "       'percentual_viagens_rota', 'status_transportadora',], axis=1)"
   ]
  },
  {
   "cell_type": "code",
   "execution_count": 28,
   "id": "4de9859d",
   "metadata": {},
   "outputs": [
    {
     "data": {
      "text/plain": [
       "Index(['codigo_unico', 'uf', 'tp_praca', 'des_unidade_negocio',\n",
       "       'intervalo_pedido_pagamento_s', 'uf_origem', 'grp_transportadora',\n",
       "       'indice_mes_s', 'status_rota_transp_s', 'percentual_viagens_rota_s'],\n",
       "      dtype='object')"
      ]
     },
     "execution_count": 28,
     "metadata": {},
     "output_type": "execute_result"
    }
   ],
   "source": [
    "df_simulado.columns"
   ]
  },
  {
   "cell_type": "code",
   "execution_count": 29,
   "id": "5064660a",
   "metadata": {},
   "outputs": [
    {
     "data": {
      "text/html": [
       "<div>\n",
       "<style scoped>\n",
       "    .dataframe tbody tr th:only-of-type {\n",
       "        vertical-align: middle;\n",
       "    }\n",
       "\n",
       "    .dataframe tbody tr th {\n",
       "        vertical-align: top;\n",
       "    }\n",
       "\n",
       "    .dataframe thead th {\n",
       "        text-align: right;\n",
       "    }\n",
       "</style>\n",
       "<table border=\"1\" class=\"dataframe\">\n",
       "  <thead>\n",
       "    <tr style=\"text-align: right;\">\n",
       "      <th></th>\n",
       "      <th>codigo_unico</th>\n",
       "      <th>uf</th>\n",
       "      <th>tp_praca</th>\n",
       "      <th>des_unidade_negocio</th>\n",
       "      <th>intervalo_pedido_pagamento_s</th>\n",
       "      <th>uf_origem</th>\n",
       "      <th>grp_transportadora</th>\n",
       "      <th>indice_mes_s</th>\n",
       "      <th>status_rota_transp_s</th>\n",
       "      <th>percentual_viagens_rota_s</th>\n",
       "    </tr>\n",
       "  </thead>\n",
       "  <tbody>\n",
       "    <tr>\n",
       "      <th>1</th>\n",
       "      <td>4</td>\n",
       "      <td>RS</td>\n",
       "      <td>Reg. Metropolitana</td>\n",
       "      <td>Mono</td>\n",
       "      <td>0.791667</td>\n",
       "      <td>PR</td>\n",
       "      <td>Transportadora 2</td>\n",
       "      <td>0.806398</td>\n",
       "      <td>1.462659</td>\n",
       "      <td>0.009522</td>\n",
       "    </tr>\n",
       "    <tr>\n",
       "      <th>4934</th>\n",
       "      <td>4</td>\n",
       "      <td>RS</td>\n",
       "      <td>Reg. Metropolitana</td>\n",
       "      <td>Mono</td>\n",
       "      <td>0.791667</td>\n",
       "      <td>PR</td>\n",
       "      <td>Transportadora 3</td>\n",
       "      <td>0.806398</td>\n",
       "      <td>1.913043</td>\n",
       "      <td>0.000229</td>\n",
       "    </tr>\n",
       "    <tr>\n",
       "      <th>9867</th>\n",
       "      <td>4</td>\n",
       "      <td>RS</td>\n",
       "      <td>Reg. Metropolitana</td>\n",
       "      <td>Mono</td>\n",
       "      <td>0.791667</td>\n",
       "      <td>PR</td>\n",
       "      <td>Transportadora 7</td>\n",
       "      <td>0.806398</td>\n",
       "      <td>2.000000</td>\n",
       "      <td>0.001666</td>\n",
       "    </tr>\n",
       "    <tr>\n",
       "      <th>14800</th>\n",
       "      <td>4</td>\n",
       "      <td>RS</td>\n",
       "      <td>Reg. Metropolitana</td>\n",
       "      <td>Mono</td>\n",
       "      <td>0.791667</td>\n",
       "      <td>PR</td>\n",
       "      <td>Transportadora 4</td>\n",
       "      <td>0.806398</td>\n",
       "      <td>1.719854</td>\n",
       "      <td>0.286453</td>\n",
       "    </tr>\n",
       "  </tbody>\n",
       "</table>\n",
       "</div>"
      ],
      "text/plain": [
       "       codigo_unico  uf            tp_praca des_unidade_negocio  \\\n",
       "1                 4  RS  Reg. Metropolitana                Mono   \n",
       "4934              4  RS  Reg. Metropolitana                Mono   \n",
       "9867              4  RS  Reg. Metropolitana                Mono   \n",
       "14800             4  RS  Reg. Metropolitana                Mono   \n",
       "\n",
       "       intervalo_pedido_pagamento_s uf_origem grp_transportadora  \\\n",
       "1                          0.791667        PR   Transportadora 2   \n",
       "4934                       0.791667        PR   Transportadora 3   \n",
       "9867                       0.791667        PR   Transportadora 7   \n",
       "14800                      0.791667        PR   Transportadora 4   \n",
       "\n",
       "       indice_mes_s  status_rota_transp_s  percentual_viagens_rota_s  \n",
       "1          0.806398              1.462659                   0.009522  \n",
       "4934       0.806398              1.913043                   0.000229  \n",
       "9867       0.806398              2.000000                   0.001666  \n",
       "14800      0.806398              1.719854                   0.286453  "
      ]
     },
     "execution_count": 29,
     "metadata": {},
     "output_type": "execute_result"
    }
   ],
   "source": [
    "df_simulado[(df_simulado['codigo_unico'] == 4)]"
   ]
  },
  {
   "cell_type": "code",
   "execution_count": 30,
   "id": "fb2c1b9e",
   "metadata": {},
   "outputs": [],
   "source": [
    "df_filtrado = df_simulado.loc[df_simulado.groupby(['uf', 'uf_origem', 'codigo_unico'])['status_rota_transp_s'].idxmax()].reset_index(drop=True)"
   ]
  },
  {
   "cell_type": "code",
   "execution_count": 31,
   "id": "6185245f",
   "metadata": {},
   "outputs": [
    {
     "data": {
      "text/html": [
       "<div>\n",
       "<style scoped>\n",
       "    .dataframe tbody tr th:only-of-type {\n",
       "        vertical-align: middle;\n",
       "    }\n",
       "\n",
       "    .dataframe tbody tr th {\n",
       "        vertical-align: top;\n",
       "    }\n",
       "\n",
       "    .dataframe thead th {\n",
       "        text-align: right;\n",
       "    }\n",
       "</style>\n",
       "<table border=\"1\" class=\"dataframe\">\n",
       "  <thead>\n",
       "    <tr style=\"text-align: right;\">\n",
       "      <th></th>\n",
       "      <th>codigo_unico</th>\n",
       "      <th>uf</th>\n",
       "      <th>tp_praca</th>\n",
       "      <th>des_unidade_negocio</th>\n",
       "      <th>intervalo_pedido_pagamento_s</th>\n",
       "      <th>uf_origem</th>\n",
       "      <th>grp_transportadora</th>\n",
       "      <th>indice_mes_s</th>\n",
       "      <th>status_rota_transp_s</th>\n",
       "      <th>percentual_viagens_rota_s</th>\n",
       "    </tr>\n",
       "  </thead>\n",
       "  <tbody>\n",
       "    <tr>\n",
       "      <th>48688</th>\n",
       "      <td>4</td>\n",
       "      <td>RS</td>\n",
       "      <td>Reg. Metropolitana</td>\n",
       "      <td>Mono</td>\n",
       "      <td>0.791667</td>\n",
       "      <td>PR</td>\n",
       "      <td>Transportadora 7</td>\n",
       "      <td>0.806398</td>\n",
       "      <td>2.0</td>\n",
       "      <td>0.001666</td>\n",
       "    </tr>\n",
       "  </tbody>\n",
       "</table>\n",
       "</div>"
      ],
      "text/plain": [
       "       codigo_unico  uf            tp_praca des_unidade_negocio  \\\n",
       "48688             4  RS  Reg. Metropolitana                Mono   \n",
       "\n",
       "       intervalo_pedido_pagamento_s uf_origem grp_transportadora  \\\n",
       "48688                      0.791667        PR   Transportadora 7   \n",
       "\n",
       "       indice_mes_s  status_rota_transp_s  percentual_viagens_rota_s  \n",
       "48688      0.806398                   2.0                   0.001666  "
      ]
     },
     "execution_count": 31,
     "metadata": {},
     "output_type": "execute_result"
    }
   ],
   "source": [
    "df_filtrado[(df_filtrado['codigo_unico'] == 4)]"
   ]
  },
  {
   "cell_type": "code",
   "execution_count": 32,
   "id": "98c2e462",
   "metadata": {},
   "outputs": [
    {
     "data": {
      "text/plain": [
       "93503"
      ]
     },
     "execution_count": 32,
     "metadata": {},
     "output_type": "execute_result"
    }
   ],
   "source": [
    "len(df_filtrado)"
   ]
  },
  {
   "cell_type": "code",
   "execution_count": 33,
   "id": "ae0fb47c",
   "metadata": {},
   "outputs": [
    {
     "data": {
      "text/plain": [
       "93503"
      ]
     },
     "execution_count": 33,
     "metadata": {},
     "output_type": "execute_result"
    }
   ],
   "source": [
    "len(y_test)"
   ]
  },
  {
   "cell_type": "code",
   "execution_count": 34,
   "id": "9c5f6257",
   "metadata": {},
   "outputs": [],
   "source": [
    "y_test.reset_index(inplace=True)"
   ]
  },
  {
   "cell_type": "code",
   "execution_count": 35,
   "id": "05fa7ba6",
   "metadata": {},
   "outputs": [],
   "source": [
    "y_test.columns = ['codigo_unico', 'real']"
   ]
  },
  {
   "cell_type": "code",
   "execution_count": 36,
   "id": "0e66e4ce",
   "metadata": {},
   "outputs": [],
   "source": [
    "df = pd.merge(df_filtrado, y_test, on=['codigo_unico'])"
   ]
  },
  {
   "cell_type": "code",
   "execution_count": 37,
   "id": "66012587",
   "metadata": {},
   "outputs": [
    {
     "data": {
      "text/html": [
       "<div>\n",
       "<style scoped>\n",
       "    .dataframe tbody tr th:only-of-type {\n",
       "        vertical-align: middle;\n",
       "    }\n",
       "\n",
       "    .dataframe tbody tr th {\n",
       "        vertical-align: top;\n",
       "    }\n",
       "\n",
       "    .dataframe thead th {\n",
       "        text-align: right;\n",
       "    }\n",
       "</style>\n",
       "<table border=\"1\" class=\"dataframe\">\n",
       "  <thead>\n",
       "    <tr style=\"text-align: right;\">\n",
       "      <th></th>\n",
       "      <th>codigo_unico</th>\n",
       "      <th>uf</th>\n",
       "      <th>tp_praca</th>\n",
       "      <th>des_unidade_negocio</th>\n",
       "      <th>intervalo_pedido_pagamento_s</th>\n",
       "      <th>uf_origem</th>\n",
       "      <th>grp_transportadora</th>\n",
       "      <th>indice_mes_s</th>\n",
       "      <th>status_rota_transp_s</th>\n",
       "      <th>percentual_viagens_rota_s</th>\n",
       "      <th>real</th>\n",
       "    </tr>\n",
       "  </thead>\n",
       "  <tbody>\n",
       "    <tr>\n",
       "      <th>0</th>\n",
       "      <td>2905</td>\n",
       "      <td>AC</td>\n",
       "      <td>Interior</td>\n",
       "      <td>Multi</td>\n",
       "      <td>0.777778</td>\n",
       "      <td>PR</td>\n",
       "      <td>Transportadora 2</td>\n",
       "      <td>0.989592</td>\n",
       "      <td>2.0</td>\n",
       "      <td>0.000104</td>\n",
       "      <td>0</td>\n",
       "    </tr>\n",
       "    <tr>\n",
       "      <th>1</th>\n",
       "      <td>2990</td>\n",
       "      <td>AC</td>\n",
       "      <td>Capital</td>\n",
       "      <td>Mono</td>\n",
       "      <td>0.791667</td>\n",
       "      <td>PR</td>\n",
       "      <td>Transportadora 2</td>\n",
       "      <td>0.382516</td>\n",
       "      <td>2.0</td>\n",
       "      <td>0.000104</td>\n",
       "      <td>0</td>\n",
       "    </tr>\n",
       "    <tr>\n",
       "      <th>2</th>\n",
       "      <td>3168</td>\n",
       "      <td>AC</td>\n",
       "      <td>Interior</td>\n",
       "      <td>Multi</td>\n",
       "      <td>0.791667</td>\n",
       "      <td>PR</td>\n",
       "      <td>Transportadora 2</td>\n",
       "      <td>0.806398</td>\n",
       "      <td>2.0</td>\n",
       "      <td>0.000104</td>\n",
       "      <td>0</td>\n",
       "    </tr>\n",
       "    <tr>\n",
       "      <th>3</th>\n",
       "      <td>5039</td>\n",
       "      <td>AC</td>\n",
       "      <td>Interior</td>\n",
       "      <td>Multi</td>\n",
       "      <td>0.791667</td>\n",
       "      <td>PR</td>\n",
       "      <td>Transportadora 2</td>\n",
       "      <td>0.711235</td>\n",
       "      <td>2.0</td>\n",
       "      <td>0.000104</td>\n",
       "      <td>0</td>\n",
       "    </tr>\n",
       "    <tr>\n",
       "      <th>4</th>\n",
       "      <td>5624</td>\n",
       "      <td>AC</td>\n",
       "      <td>Capital</td>\n",
       "      <td>Multi</td>\n",
       "      <td>0.777778</td>\n",
       "      <td>PR</td>\n",
       "      <td>Transportadora 2</td>\n",
       "      <td>1.000000</td>\n",
       "      <td>2.0</td>\n",
       "      <td>0.000104</td>\n",
       "      <td>1</td>\n",
       "    </tr>\n",
       "    <tr>\n",
       "      <th>...</th>\n",
       "      <td>...</td>\n",
       "      <td>...</td>\n",
       "      <td>...</td>\n",
       "      <td>...</td>\n",
       "      <td>...</td>\n",
       "      <td>...</td>\n",
       "      <td>...</td>\n",
       "      <td>...</td>\n",
       "      <td>...</td>\n",
       "      <td>...</td>\n",
       "      <td>...</td>\n",
       "    </tr>\n",
       "    <tr>\n",
       "      <th>93498</th>\n",
       "      <td>87502</td>\n",
       "      <td>TO</td>\n",
       "      <td>Interior</td>\n",
       "      <td>Mono</td>\n",
       "      <td>0.791667</td>\n",
       "      <td>SP</td>\n",
       "      <td>Transportadora 1</td>\n",
       "      <td>0.711235</td>\n",
       "      <td>2.0</td>\n",
       "      <td>0.000447</td>\n",
       "      <td>0</td>\n",
       "    </tr>\n",
       "    <tr>\n",
       "      <th>93499</th>\n",
       "      <td>88558</td>\n",
       "      <td>TO</td>\n",
       "      <td>Capital</td>\n",
       "      <td>Mono</td>\n",
       "      <td>0.791667</td>\n",
       "      <td>SP</td>\n",
       "      <td>Transportadora 1</td>\n",
       "      <td>1.000000</td>\n",
       "      <td>2.0</td>\n",
       "      <td>0.000447</td>\n",
       "      <td>0</td>\n",
       "    </tr>\n",
       "    <tr>\n",
       "      <th>93500</th>\n",
       "      <td>89884</td>\n",
       "      <td>TO</td>\n",
       "      <td>Interior</td>\n",
       "      <td>Multi</td>\n",
       "      <td>0.791667</td>\n",
       "      <td>SP</td>\n",
       "      <td>Transportadora 1</td>\n",
       "      <td>0.382516</td>\n",
       "      <td>2.0</td>\n",
       "      <td>0.000447</td>\n",
       "      <td>0</td>\n",
       "    </tr>\n",
       "    <tr>\n",
       "      <th>93501</th>\n",
       "      <td>90029</td>\n",
       "      <td>TO</td>\n",
       "      <td>Interior</td>\n",
       "      <td>Mono</td>\n",
       "      <td>0.791667</td>\n",
       "      <td>SP</td>\n",
       "      <td>Transportadora 1</td>\n",
       "      <td>0.711235</td>\n",
       "      <td>2.0</td>\n",
       "      <td>0.000447</td>\n",
       "      <td>0</td>\n",
       "    </tr>\n",
       "    <tr>\n",
       "      <th>93502</th>\n",
       "      <td>91055</td>\n",
       "      <td>TO</td>\n",
       "      <td>Capital</td>\n",
       "      <td>Mono</td>\n",
       "      <td>0.791667</td>\n",
       "      <td>SP</td>\n",
       "      <td>Transportadora 1</td>\n",
       "      <td>0.989592</td>\n",
       "      <td>2.0</td>\n",
       "      <td>0.000447</td>\n",
       "      <td>0</td>\n",
       "    </tr>\n",
       "  </tbody>\n",
       "</table>\n",
       "<p>93503 rows × 11 columns</p>\n",
       "</div>"
      ],
      "text/plain": [
       "       codigo_unico  uf  tp_praca des_unidade_negocio  \\\n",
       "0              2905  AC  Interior               Multi   \n",
       "1              2990  AC   Capital                Mono   \n",
       "2              3168  AC  Interior               Multi   \n",
       "3              5039  AC  Interior               Multi   \n",
       "4              5624  AC   Capital               Multi   \n",
       "...             ...  ..       ...                 ...   \n",
       "93498         87502  TO  Interior                Mono   \n",
       "93499         88558  TO   Capital                Mono   \n",
       "93500         89884  TO  Interior               Multi   \n",
       "93501         90029  TO  Interior                Mono   \n",
       "93502         91055  TO   Capital                Mono   \n",
       "\n",
       "       intervalo_pedido_pagamento_s uf_origem grp_transportadora  \\\n",
       "0                          0.777778        PR   Transportadora 2   \n",
       "1                          0.791667        PR   Transportadora 2   \n",
       "2                          0.791667        PR   Transportadora 2   \n",
       "3                          0.791667        PR   Transportadora 2   \n",
       "4                          0.777778        PR   Transportadora 2   \n",
       "...                             ...       ...                ...   \n",
       "93498                      0.791667        SP   Transportadora 1   \n",
       "93499                      0.791667        SP   Transportadora 1   \n",
       "93500                      0.791667        SP   Transportadora 1   \n",
       "93501                      0.791667        SP   Transportadora 1   \n",
       "93502                      0.791667        SP   Transportadora 1   \n",
       "\n",
       "       indice_mes_s  status_rota_transp_s  percentual_viagens_rota_s  real  \n",
       "0          0.989592                   2.0                   0.000104     0  \n",
       "1          0.382516                   2.0                   0.000104     0  \n",
       "2          0.806398                   2.0                   0.000104     0  \n",
       "3          0.711235                   2.0                   0.000104     0  \n",
       "4          1.000000                   2.0                   0.000104     1  \n",
       "...             ...                   ...                        ...   ...  \n",
       "93498      0.711235                   2.0                   0.000447     0  \n",
       "93499      1.000000                   2.0                   0.000447     0  \n",
       "93500      0.382516                   2.0                   0.000447     0  \n",
       "93501      0.711235                   2.0                   0.000447     0  \n",
       "93502      0.989592                   2.0                   0.000447     0  \n",
       "\n",
       "[93503 rows x 11 columns]"
      ]
     },
     "execution_count": 37,
     "metadata": {},
     "output_type": "execute_result"
    }
   ],
   "source": [
    "df"
   ]
  },
  {
   "cell_type": "code",
   "execution_count": 38,
   "id": "207e6ca0",
   "metadata": {},
   "outputs": [],
   "source": [
    "y_pred = modelo_carregado.predict(df)"
   ]
  },
  {
   "cell_type": "code",
   "execution_count": 39,
   "id": "99ee964c",
   "metadata": {},
   "outputs": [],
   "source": [
    "y_pred = pd.DataFrame(y_pred, columns = ['predict'])"
   ]
  },
  {
   "cell_type": "code",
   "execution_count": 40,
   "id": "2d67db8d",
   "metadata": {},
   "outputs": [],
   "source": [
    "df_simulado_predict = pd.concat([df, y_pred], axis=1)"
   ]
  },
  {
   "cell_type": "code",
   "execution_count": 41,
   "id": "4cb36a6f",
   "metadata": {},
   "outputs": [
    {
     "data": {
      "text/html": [
       "<div>\n",
       "<style scoped>\n",
       "    .dataframe tbody tr th:only-of-type {\n",
       "        vertical-align: middle;\n",
       "    }\n",
       "\n",
       "    .dataframe tbody tr th {\n",
       "        vertical-align: top;\n",
       "    }\n",
       "\n",
       "    .dataframe thead th {\n",
       "        text-align: right;\n",
       "    }\n",
       "</style>\n",
       "<table border=\"1\" class=\"dataframe\">\n",
       "  <thead>\n",
       "    <tr style=\"text-align: right;\">\n",
       "      <th></th>\n",
       "      <th>codigo_unico</th>\n",
       "      <th>uf</th>\n",
       "      <th>tp_praca</th>\n",
       "      <th>des_unidade_negocio</th>\n",
       "      <th>intervalo_pedido_pagamento_s</th>\n",
       "      <th>uf_origem</th>\n",
       "      <th>grp_transportadora</th>\n",
       "      <th>indice_mes_s</th>\n",
       "      <th>status_rota_transp_s</th>\n",
       "      <th>percentual_viagens_rota_s</th>\n",
       "      <th>real</th>\n",
       "      <th>predict</th>\n",
       "    </tr>\n",
       "  </thead>\n",
       "  <tbody>\n",
       "    <tr>\n",
       "      <th>0</th>\n",
       "      <td>2905</td>\n",
       "      <td>AC</td>\n",
       "      <td>Interior</td>\n",
       "      <td>Multi</td>\n",
       "      <td>0.777778</td>\n",
       "      <td>PR</td>\n",
       "      <td>Transportadora 2</td>\n",
       "      <td>0.989592</td>\n",
       "      <td>2.0</td>\n",
       "      <td>0.000104</td>\n",
       "      <td>0</td>\n",
       "      <td>0</td>\n",
       "    </tr>\n",
       "    <tr>\n",
       "      <th>1</th>\n",
       "      <td>2990</td>\n",
       "      <td>AC</td>\n",
       "      <td>Capital</td>\n",
       "      <td>Mono</td>\n",
       "      <td>0.791667</td>\n",
       "      <td>PR</td>\n",
       "      <td>Transportadora 2</td>\n",
       "      <td>0.382516</td>\n",
       "      <td>2.0</td>\n",
       "      <td>0.000104</td>\n",
       "      <td>0</td>\n",
       "      <td>0</td>\n",
       "    </tr>\n",
       "    <tr>\n",
       "      <th>2</th>\n",
       "      <td>3168</td>\n",
       "      <td>AC</td>\n",
       "      <td>Interior</td>\n",
       "      <td>Multi</td>\n",
       "      <td>0.791667</td>\n",
       "      <td>PR</td>\n",
       "      <td>Transportadora 2</td>\n",
       "      <td>0.806398</td>\n",
       "      <td>2.0</td>\n",
       "      <td>0.000104</td>\n",
       "      <td>0</td>\n",
       "      <td>0</td>\n",
       "    </tr>\n",
       "    <tr>\n",
       "      <th>3</th>\n",
       "      <td>5039</td>\n",
       "      <td>AC</td>\n",
       "      <td>Interior</td>\n",
       "      <td>Multi</td>\n",
       "      <td>0.791667</td>\n",
       "      <td>PR</td>\n",
       "      <td>Transportadora 2</td>\n",
       "      <td>0.711235</td>\n",
       "      <td>2.0</td>\n",
       "      <td>0.000104</td>\n",
       "      <td>0</td>\n",
       "      <td>0</td>\n",
       "    </tr>\n",
       "    <tr>\n",
       "      <th>4</th>\n",
       "      <td>5624</td>\n",
       "      <td>AC</td>\n",
       "      <td>Capital</td>\n",
       "      <td>Multi</td>\n",
       "      <td>0.777778</td>\n",
       "      <td>PR</td>\n",
       "      <td>Transportadora 2</td>\n",
       "      <td>1.000000</td>\n",
       "      <td>2.0</td>\n",
       "      <td>0.000104</td>\n",
       "      <td>1</td>\n",
       "      <td>0</td>\n",
       "    </tr>\n",
       "    <tr>\n",
       "      <th>...</th>\n",
       "      <td>...</td>\n",
       "      <td>...</td>\n",
       "      <td>...</td>\n",
       "      <td>...</td>\n",
       "      <td>...</td>\n",
       "      <td>...</td>\n",
       "      <td>...</td>\n",
       "      <td>...</td>\n",
       "      <td>...</td>\n",
       "      <td>...</td>\n",
       "      <td>...</td>\n",
       "      <td>...</td>\n",
       "    </tr>\n",
       "    <tr>\n",
       "      <th>93498</th>\n",
       "      <td>87502</td>\n",
       "      <td>TO</td>\n",
       "      <td>Interior</td>\n",
       "      <td>Mono</td>\n",
       "      <td>0.791667</td>\n",
       "      <td>SP</td>\n",
       "      <td>Transportadora 1</td>\n",
       "      <td>0.711235</td>\n",
       "      <td>2.0</td>\n",
       "      <td>0.000447</td>\n",
       "      <td>0</td>\n",
       "      <td>0</td>\n",
       "    </tr>\n",
       "    <tr>\n",
       "      <th>93499</th>\n",
       "      <td>88558</td>\n",
       "      <td>TO</td>\n",
       "      <td>Capital</td>\n",
       "      <td>Mono</td>\n",
       "      <td>0.791667</td>\n",
       "      <td>SP</td>\n",
       "      <td>Transportadora 1</td>\n",
       "      <td>1.000000</td>\n",
       "      <td>2.0</td>\n",
       "      <td>0.000447</td>\n",
       "      <td>0</td>\n",
       "      <td>0</td>\n",
       "    </tr>\n",
       "    <tr>\n",
       "      <th>93500</th>\n",
       "      <td>89884</td>\n",
       "      <td>TO</td>\n",
       "      <td>Interior</td>\n",
       "      <td>Multi</td>\n",
       "      <td>0.791667</td>\n",
       "      <td>SP</td>\n",
       "      <td>Transportadora 1</td>\n",
       "      <td>0.382516</td>\n",
       "      <td>2.0</td>\n",
       "      <td>0.000447</td>\n",
       "      <td>0</td>\n",
       "      <td>0</td>\n",
       "    </tr>\n",
       "    <tr>\n",
       "      <th>93501</th>\n",
       "      <td>90029</td>\n",
       "      <td>TO</td>\n",
       "      <td>Interior</td>\n",
       "      <td>Mono</td>\n",
       "      <td>0.791667</td>\n",
       "      <td>SP</td>\n",
       "      <td>Transportadora 1</td>\n",
       "      <td>0.711235</td>\n",
       "      <td>2.0</td>\n",
       "      <td>0.000447</td>\n",
       "      <td>0</td>\n",
       "      <td>0</td>\n",
       "    </tr>\n",
       "    <tr>\n",
       "      <th>93502</th>\n",
       "      <td>91055</td>\n",
       "      <td>TO</td>\n",
       "      <td>Capital</td>\n",
       "      <td>Mono</td>\n",
       "      <td>0.791667</td>\n",
       "      <td>SP</td>\n",
       "      <td>Transportadora 1</td>\n",
       "      <td>0.989592</td>\n",
       "      <td>2.0</td>\n",
       "      <td>0.000447</td>\n",
       "      <td>0</td>\n",
       "      <td>0</td>\n",
       "    </tr>\n",
       "  </tbody>\n",
       "</table>\n",
       "<p>93503 rows × 12 columns</p>\n",
       "</div>"
      ],
      "text/plain": [
       "       codigo_unico  uf  tp_praca des_unidade_negocio  \\\n",
       "0              2905  AC  Interior               Multi   \n",
       "1              2990  AC   Capital                Mono   \n",
       "2              3168  AC  Interior               Multi   \n",
       "3              5039  AC  Interior               Multi   \n",
       "4              5624  AC   Capital               Multi   \n",
       "...             ...  ..       ...                 ...   \n",
       "93498         87502  TO  Interior                Mono   \n",
       "93499         88558  TO   Capital                Mono   \n",
       "93500         89884  TO  Interior               Multi   \n",
       "93501         90029  TO  Interior                Mono   \n",
       "93502         91055  TO   Capital                Mono   \n",
       "\n",
       "       intervalo_pedido_pagamento_s uf_origem grp_transportadora  \\\n",
       "0                          0.777778        PR   Transportadora 2   \n",
       "1                          0.791667        PR   Transportadora 2   \n",
       "2                          0.791667        PR   Transportadora 2   \n",
       "3                          0.791667        PR   Transportadora 2   \n",
       "4                          0.777778        PR   Transportadora 2   \n",
       "...                             ...       ...                ...   \n",
       "93498                      0.791667        SP   Transportadora 1   \n",
       "93499                      0.791667        SP   Transportadora 1   \n",
       "93500                      0.791667        SP   Transportadora 1   \n",
       "93501                      0.791667        SP   Transportadora 1   \n",
       "93502                      0.791667        SP   Transportadora 1   \n",
       "\n",
       "       indice_mes_s  status_rota_transp_s  percentual_viagens_rota_s  real  \\\n",
       "0          0.989592                   2.0                   0.000104     0   \n",
       "1          0.382516                   2.0                   0.000104     0   \n",
       "2          0.806398                   2.0                   0.000104     0   \n",
       "3          0.711235                   2.0                   0.000104     0   \n",
       "4          1.000000                   2.0                   0.000104     1   \n",
       "...             ...                   ...                        ...   ...   \n",
       "93498      0.711235                   2.0                   0.000447     0   \n",
       "93499      1.000000                   2.0                   0.000447     0   \n",
       "93500      0.382516                   2.0                   0.000447     0   \n",
       "93501      0.711235                   2.0                   0.000447     0   \n",
       "93502      0.989592                   2.0                   0.000447     0   \n",
       "\n",
       "       predict  \n",
       "0            0  \n",
       "1            0  \n",
       "2            0  \n",
       "3            0  \n",
       "4            0  \n",
       "...        ...  \n",
       "93498        0  \n",
       "93499        0  \n",
       "93500        0  \n",
       "93501        0  \n",
       "93502        0  \n",
       "\n",
       "[93503 rows x 12 columns]"
      ]
     },
     "execution_count": 41,
     "metadata": {},
     "output_type": "execute_result"
    }
   ],
   "source": [
    "df_simulado_predict"
   ]
  },
  {
   "cell_type": "code",
   "execution_count": 42,
   "id": "45b25fe9",
   "metadata": {},
   "outputs": [
    {
     "data": {
      "text/plain": [
       "2704"
      ]
     },
     "execution_count": 42,
     "metadata": {},
     "output_type": "execute_result"
    }
   ],
   "source": [
    "df_simulado_predict['predict'].sum()"
   ]
  },
  {
   "cell_type": "code",
   "execution_count": 57,
   "id": "b464f4e6",
   "metadata": {},
   "outputs": [
    {
     "data": {
      "text/plain": [
       "108.16"
      ]
     },
     "execution_count": 57,
     "metadata": {},
     "output_type": "execute_result"
    }
   ],
   "source": [
    "2704 * 0.04"
   ]
  },
  {
   "cell_type": "code",
   "execution_count": 59,
   "id": "270786e5",
   "metadata": {},
   "outputs": [
    {
     "data": {
      "text/plain": [
       "0.11567543287381153"
      ]
     },
     "execution_count": 59,
     "metadata": {},
     "output_type": "execute_result"
    }
   ],
   "source": [
    "108.16/93503*100"
   ]
  }
 ],
 "metadata": {
  "kernelspec": {
   "display_name": "Python 3 (ipykernel)",
   "language": "python",
   "name": "python3"
  },
  "language_info": {
   "codemirror_mode": {
    "name": "ipython",
    "version": 3
   },
   "file_extension": ".py",
   "mimetype": "text/x-python",
   "name": "python",
   "nbconvert_exporter": "python",
   "pygments_lexer": "ipython3",
   "version": "3.10.9"
  }
 },
 "nbformat": 4,
 "nbformat_minor": 5
}
